{
  "nbformat": 4,
  "nbformat_minor": 0,
  "metadata": {
    "colab": {
      "provenance": [],
      "mount_file_id": "1r5vAtTgcaVE00OCtZr8mXVD3aUHnusRe",
      "authorship_tag": "ABX9TyOHZxCBWvp1rdRyrcnv8l2L",
      "include_colab_link": true
    },
    "kernelspec": {
      "name": "python3",
      "display_name": "Python 3"
    },
    "language_info": {
      "name": "python"
    }
  },
  "cells": [
    {
      "cell_type": "markdown",
      "metadata": {
        "id": "view-in-github",
        "colab_type": "text"
      },
      "source": [
        "<a href=\"https://colab.research.google.com/github/MoizAhmed2517/Time-Series-Forecasting-Projects/blob/main/Time_Series_Forecasting.ipynb\" target=\"_parent\"><img src=\"https://colab.research.google.com/assets/colab-badge.svg\" alt=\"Open In Colab\"/></a>"
      ]
    },
    {
      "cell_type": "markdown",
      "source": [
        "#Predicting the BitCoin Forecasting"
      ],
      "metadata": {
        "id": "TrCExMOnjetp"
      }
    },
    {
      "cell_type": "markdown",
      "source": [
        "## Get Data"
      ],
      "metadata": {
        "id": "QtDuwhHRkuwf"
      }
    },
    {
      "cell_type": "code",
      "source": [
        "%cd /content/drive/MyDrive/ColabProjects"
      ],
      "metadata": {
        "colab": {
          "base_uri": "https://localhost:8080/"
        },
        "id": "SDaYzkOElW80",
        "outputId": "48a561bd-dea5-43f9-ec09-c0915d86c526"
      },
      "execution_count": 10,
      "outputs": [
        {
          "output_type": "stream",
          "name": "stdout",
          "text": [
            "/content/drive/MyDrive/ColabProjects\n"
          ]
        }
      ]
    },
    {
      "cell_type": "code",
      "source": [
        "!pwd"
      ],
      "metadata": {
        "colab": {
          "base_uri": "https://localhost:8080/"
        },
        "id": "ZVdfi8Fel-jw",
        "outputId": "bc915edf-00f4-409e-9705-e9f5a5021274"
      },
      "execution_count": 11,
      "outputs": [
        {
          "output_type": "stream",
          "name": "stdout",
          "text": [
            "/content/drive/MyDrive/ColabProjects\n"
          ]
        }
      ]
    },
    {
      "cell_type": "code",
      "source": [
        "!wget https://raw.githubusercontent.com/mrdbourke/tensorflow-deep-learning/main/extras/BTC_USD_2013-10-01_2021-05-18-CoinDesk.csv"
      ],
      "metadata": {
        "colab": {
          "base_uri": "https://localhost:8080/"
        },
        "id": "zhsPLvEamPfb",
        "outputId": "251ba2ca-8835-402a-a6aa-8d05190ca269"
      },
      "execution_count": 12,
      "outputs": [
        {
          "output_type": "stream",
          "name": "stdout",
          "text": [
            "--2023-02-23 18:48:24--  https://raw.githubusercontent.com/mrdbourke/tensorflow-deep-learning/main/extras/BTC_USD_2013-10-01_2021-05-18-CoinDesk.csv\n",
            "Resolving raw.githubusercontent.com (raw.githubusercontent.com)... 185.199.108.133, 185.199.109.133, 185.199.110.133, ...\n",
            "Connecting to raw.githubusercontent.com (raw.githubusercontent.com)|185.199.108.133|:443... connected.\n",
            "HTTP request sent, awaiting response... 200 OK\n",
            "Length: 178509 (174K) [text/plain]\n",
            "Saving to: ‘BTC_USD_2013-10-01_2021-05-18-CoinDesk.csv’\n",
            "\n",
            "\r          BTC_USD_2   0%[                    ]       0  --.-KB/s               \rBTC_USD_2013-10-01_ 100%[===================>] 174.33K  --.-KB/s    in 0.01s   \n",
            "\n",
            "2023-02-23 18:48:24 (16.8 MB/s) - ‘BTC_USD_2013-10-01_2021-05-18-CoinDesk.csv’ saved [178509/178509]\n",
            "\n"
          ]
        }
      ]
    },
    {
      "cell_type": "markdown",
      "source": [
        "###Importing libraries"
      ],
      "metadata": {
        "id": "QwQ3RrM4mXxs"
      }
    },
    {
      "cell_type": "code",
      "source": [
        "import pandas as pd\n",
        "import tensorflow as tf\n",
        "import matplotlib.pyplot as plt\n",
        "import numpy as np"
      ],
      "metadata": {
        "id": "KXwYyPFcm9HN"
      },
      "execution_count": 13,
      "outputs": []
    },
    {
      "cell_type": "markdown",
      "source": [
        "##Performing Exploratory Analysis"
      ],
      "metadata": {
        "id": "rJM8lJJUnGJ_"
      }
    },
    {
      "cell_type": "code",
      "source": [
        "df = pd.read_csv(\"data_BTC.csv\", parse_dates=[\"Date\"], index_col=[\"Date\"])"
      ],
      "metadata": {
        "id": "g7HU37rVnLrN"
      },
      "execution_count": 22,
      "outputs": []
    },
    {
      "cell_type": "code",
      "source": [
        "df.head(30)"
      ],
      "metadata": {
        "colab": {
          "base_uri": "https://localhost:8080/",
          "height": 1000
        },
        "id": "la20FYV-nWse",
        "outputId": "9281d300-ceef-4cc9-ebbb-5a3ca8546e5a"
      },
      "execution_count": 23,
      "outputs": [
        {
          "output_type": "execute_result",
          "data": {
            "text/plain": [
              "           Currency  Closing Price (USD)  24h Open (USD)  24h High (USD)  \\\n",
              "Date                                                                       \n",
              "2013-10-01      BTC            123.65499       124.30466       124.75166   \n",
              "2013-10-02      BTC            125.45500       123.65499       125.75850   \n",
              "2013-10-03      BTC            108.58483       125.45500       125.66566   \n",
              "2013-10-04      BTC            118.67466       108.58483       118.67500   \n",
              "2013-10-05      BTC            121.33866       118.67466       121.93633   \n",
              "2013-10-06      BTC            120.65533       121.33866       121.85216   \n",
              "2013-10-07      BTC            121.79500       120.65533       121.99166   \n",
              "2013-10-08      BTC            123.03300       121.79500       123.64016   \n",
              "2013-10-09      BTC            124.04900       123.03300       124.78350   \n",
              "2013-10-10      BTC            125.96116       124.04900       128.01683   \n",
              "2013-10-11      BTC            125.27966       125.96116       126.43666   \n",
              "2013-10-12      BTC            125.92750       125.27966       126.03650   \n",
              "2013-10-13      BTC            126.38333       125.92750       126.89650   \n",
              "2013-10-14      BTC            135.24199       126.38333       135.24199   \n",
              "2013-10-15      BTC            133.20333       135.24199       135.69216   \n",
              "2013-10-16      BTC            142.76333       133.20333       143.60483   \n",
              "2013-10-17      BTC            137.92333       142.76333       145.60100   \n",
              "2013-10-18      BTC            142.95166       137.92333       144.31100   \n",
              "2013-10-19      BTC            152.55183       142.95166       152.66850   \n",
              "2013-10-20      BTC            160.33883       152.55183       167.07999   \n",
              "2013-10-21      BTC            164.31499       160.33883       164.33150   \n",
              "2013-10-22      BTC            177.63333       164.31499       177.71166   \n",
              "2013-10-23      BTC            188.29716       177.63333       188.82383   \n",
              "2013-10-24      BTC            200.70166       188.29716       202.34333   \n",
              "2013-10-25      BTC            180.35500       200.70166       201.33316   \n",
              "2013-10-26      BTC            175.03166       180.35500       184.09033   \n",
              "2013-10-27      BTC            177.69650       175.03166       180.31850   \n",
              "2013-10-28      BTC            187.15983       177.69650       188.39850   \n",
              "2013-10-29      BTC            192.75666       187.15983       192.83983   \n",
              "2013-10-30      BTC            197.40000       192.75666       198.41366   \n",
              "\n",
              "            24h Low (USD)  \n",
              "Date                       \n",
              "2013-10-01      122.56349  \n",
              "2013-10-02      123.63383  \n",
              "2013-10-03       83.32833  \n",
              "2013-10-04      107.05816  \n",
              "2013-10-05      118.00566  \n",
              "2013-10-06      120.55450  \n",
              "2013-10-07      120.43199  \n",
              "2013-10-08      121.35066  \n",
              "2013-10-09      122.59266  \n",
              "2013-10-10      123.81966  \n",
              "2013-10-11      124.11383  \n",
              "2013-10-12      123.12966  \n",
              "2013-10-13      125.27650  \n",
              "2013-10-14      126.25500  \n",
              "2013-10-15      130.39275  \n",
              "2013-10-16      132.94933  \n",
              "2013-10-17      136.01466  \n",
              "2013-10-18      137.53966  \n",
              "2013-10-19      142.47949  \n",
              "2013-10-20      152.51350  \n",
              "2013-10-21      159.89666  \n",
              "2013-10-22      163.87149  \n",
              "2013-10-23      177.11399  \n",
              "2013-10-24      185.81683  \n",
              "2013-10-25      158.72216  \n",
              "2013-10-26      162.56466  \n",
              "2013-10-27      174.74483  \n",
              "2013-10-28      174.90350  \n",
              "2013-10-29      185.88116  \n",
              "2013-10-30      191.62716  "
            ],
            "text/html": [
              "\n",
              "  <div id=\"df-04a3c052-4607-4573-a6cd-30a06c55a64b\">\n",
              "    <div class=\"colab-df-container\">\n",
              "      <div>\n",
              "<style scoped>\n",
              "    .dataframe tbody tr th:only-of-type {\n",
              "        vertical-align: middle;\n",
              "    }\n",
              "\n",
              "    .dataframe tbody tr th {\n",
              "        vertical-align: top;\n",
              "    }\n",
              "\n",
              "    .dataframe thead th {\n",
              "        text-align: right;\n",
              "    }\n",
              "</style>\n",
              "<table border=\"1\" class=\"dataframe\">\n",
              "  <thead>\n",
              "    <tr style=\"text-align: right;\">\n",
              "      <th></th>\n",
              "      <th>Currency</th>\n",
              "      <th>Closing Price (USD)</th>\n",
              "      <th>24h Open (USD)</th>\n",
              "      <th>24h High (USD)</th>\n",
              "      <th>24h Low (USD)</th>\n",
              "    </tr>\n",
              "    <tr>\n",
              "      <th>Date</th>\n",
              "      <th></th>\n",
              "      <th></th>\n",
              "      <th></th>\n",
              "      <th></th>\n",
              "      <th></th>\n",
              "    </tr>\n",
              "  </thead>\n",
              "  <tbody>\n",
              "    <tr>\n",
              "      <th>2013-10-01</th>\n",
              "      <td>BTC</td>\n",
              "      <td>123.65499</td>\n",
              "      <td>124.30466</td>\n",
              "      <td>124.75166</td>\n",
              "      <td>122.56349</td>\n",
              "    </tr>\n",
              "    <tr>\n",
              "      <th>2013-10-02</th>\n",
              "      <td>BTC</td>\n",
              "      <td>125.45500</td>\n",
              "      <td>123.65499</td>\n",
              "      <td>125.75850</td>\n",
              "      <td>123.63383</td>\n",
              "    </tr>\n",
              "    <tr>\n",
              "      <th>2013-10-03</th>\n",
              "      <td>BTC</td>\n",
              "      <td>108.58483</td>\n",
              "      <td>125.45500</td>\n",
              "      <td>125.66566</td>\n",
              "      <td>83.32833</td>\n",
              "    </tr>\n",
              "    <tr>\n",
              "      <th>2013-10-04</th>\n",
              "      <td>BTC</td>\n",
              "      <td>118.67466</td>\n",
              "      <td>108.58483</td>\n",
              "      <td>118.67500</td>\n",
              "      <td>107.05816</td>\n",
              "    </tr>\n",
              "    <tr>\n",
              "      <th>2013-10-05</th>\n",
              "      <td>BTC</td>\n",
              "      <td>121.33866</td>\n",
              "      <td>118.67466</td>\n",
              "      <td>121.93633</td>\n",
              "      <td>118.00566</td>\n",
              "    </tr>\n",
              "    <tr>\n",
              "      <th>2013-10-06</th>\n",
              "      <td>BTC</td>\n",
              "      <td>120.65533</td>\n",
              "      <td>121.33866</td>\n",
              "      <td>121.85216</td>\n",
              "      <td>120.55450</td>\n",
              "    </tr>\n",
              "    <tr>\n",
              "      <th>2013-10-07</th>\n",
              "      <td>BTC</td>\n",
              "      <td>121.79500</td>\n",
              "      <td>120.65533</td>\n",
              "      <td>121.99166</td>\n",
              "      <td>120.43199</td>\n",
              "    </tr>\n",
              "    <tr>\n",
              "      <th>2013-10-08</th>\n",
              "      <td>BTC</td>\n",
              "      <td>123.03300</td>\n",
              "      <td>121.79500</td>\n",
              "      <td>123.64016</td>\n",
              "      <td>121.35066</td>\n",
              "    </tr>\n",
              "    <tr>\n",
              "      <th>2013-10-09</th>\n",
              "      <td>BTC</td>\n",
              "      <td>124.04900</td>\n",
              "      <td>123.03300</td>\n",
              "      <td>124.78350</td>\n",
              "      <td>122.59266</td>\n",
              "    </tr>\n",
              "    <tr>\n",
              "      <th>2013-10-10</th>\n",
              "      <td>BTC</td>\n",
              "      <td>125.96116</td>\n",
              "      <td>124.04900</td>\n",
              "      <td>128.01683</td>\n",
              "      <td>123.81966</td>\n",
              "    </tr>\n",
              "    <tr>\n",
              "      <th>2013-10-11</th>\n",
              "      <td>BTC</td>\n",
              "      <td>125.27966</td>\n",
              "      <td>125.96116</td>\n",
              "      <td>126.43666</td>\n",
              "      <td>124.11383</td>\n",
              "    </tr>\n",
              "    <tr>\n",
              "      <th>2013-10-12</th>\n",
              "      <td>BTC</td>\n",
              "      <td>125.92750</td>\n",
              "      <td>125.27966</td>\n",
              "      <td>126.03650</td>\n",
              "      <td>123.12966</td>\n",
              "    </tr>\n",
              "    <tr>\n",
              "      <th>2013-10-13</th>\n",
              "      <td>BTC</td>\n",
              "      <td>126.38333</td>\n",
              "      <td>125.92750</td>\n",
              "      <td>126.89650</td>\n",
              "      <td>125.27650</td>\n",
              "    </tr>\n",
              "    <tr>\n",
              "      <th>2013-10-14</th>\n",
              "      <td>BTC</td>\n",
              "      <td>135.24199</td>\n",
              "      <td>126.38333</td>\n",
              "      <td>135.24199</td>\n",
              "      <td>126.25500</td>\n",
              "    </tr>\n",
              "    <tr>\n",
              "      <th>2013-10-15</th>\n",
              "      <td>BTC</td>\n",
              "      <td>133.20333</td>\n",
              "      <td>135.24199</td>\n",
              "      <td>135.69216</td>\n",
              "      <td>130.39275</td>\n",
              "    </tr>\n",
              "    <tr>\n",
              "      <th>2013-10-16</th>\n",
              "      <td>BTC</td>\n",
              "      <td>142.76333</td>\n",
              "      <td>133.20333</td>\n",
              "      <td>143.60483</td>\n",
              "      <td>132.94933</td>\n",
              "    </tr>\n",
              "    <tr>\n",
              "      <th>2013-10-17</th>\n",
              "      <td>BTC</td>\n",
              "      <td>137.92333</td>\n",
              "      <td>142.76333</td>\n",
              "      <td>145.60100</td>\n",
              "      <td>136.01466</td>\n",
              "    </tr>\n",
              "    <tr>\n",
              "      <th>2013-10-18</th>\n",
              "      <td>BTC</td>\n",
              "      <td>142.95166</td>\n",
              "      <td>137.92333</td>\n",
              "      <td>144.31100</td>\n",
              "      <td>137.53966</td>\n",
              "    </tr>\n",
              "    <tr>\n",
              "      <th>2013-10-19</th>\n",
              "      <td>BTC</td>\n",
              "      <td>152.55183</td>\n",
              "      <td>142.95166</td>\n",
              "      <td>152.66850</td>\n",
              "      <td>142.47949</td>\n",
              "    </tr>\n",
              "    <tr>\n",
              "      <th>2013-10-20</th>\n",
              "      <td>BTC</td>\n",
              "      <td>160.33883</td>\n",
              "      <td>152.55183</td>\n",
              "      <td>167.07999</td>\n",
              "      <td>152.51350</td>\n",
              "    </tr>\n",
              "    <tr>\n",
              "      <th>2013-10-21</th>\n",
              "      <td>BTC</td>\n",
              "      <td>164.31499</td>\n",
              "      <td>160.33883</td>\n",
              "      <td>164.33150</td>\n",
              "      <td>159.89666</td>\n",
              "    </tr>\n",
              "    <tr>\n",
              "      <th>2013-10-22</th>\n",
              "      <td>BTC</td>\n",
              "      <td>177.63333</td>\n",
              "      <td>164.31499</td>\n",
              "      <td>177.71166</td>\n",
              "      <td>163.87149</td>\n",
              "    </tr>\n",
              "    <tr>\n",
              "      <th>2013-10-23</th>\n",
              "      <td>BTC</td>\n",
              "      <td>188.29716</td>\n",
              "      <td>177.63333</td>\n",
              "      <td>188.82383</td>\n",
              "      <td>177.11399</td>\n",
              "    </tr>\n",
              "    <tr>\n",
              "      <th>2013-10-24</th>\n",
              "      <td>BTC</td>\n",
              "      <td>200.70166</td>\n",
              "      <td>188.29716</td>\n",
              "      <td>202.34333</td>\n",
              "      <td>185.81683</td>\n",
              "    </tr>\n",
              "    <tr>\n",
              "      <th>2013-10-25</th>\n",
              "      <td>BTC</td>\n",
              "      <td>180.35500</td>\n",
              "      <td>200.70166</td>\n",
              "      <td>201.33316</td>\n",
              "      <td>158.72216</td>\n",
              "    </tr>\n",
              "    <tr>\n",
              "      <th>2013-10-26</th>\n",
              "      <td>BTC</td>\n",
              "      <td>175.03166</td>\n",
              "      <td>180.35500</td>\n",
              "      <td>184.09033</td>\n",
              "      <td>162.56466</td>\n",
              "    </tr>\n",
              "    <tr>\n",
              "      <th>2013-10-27</th>\n",
              "      <td>BTC</td>\n",
              "      <td>177.69650</td>\n",
              "      <td>175.03166</td>\n",
              "      <td>180.31850</td>\n",
              "      <td>174.74483</td>\n",
              "    </tr>\n",
              "    <tr>\n",
              "      <th>2013-10-28</th>\n",
              "      <td>BTC</td>\n",
              "      <td>187.15983</td>\n",
              "      <td>177.69650</td>\n",
              "      <td>188.39850</td>\n",
              "      <td>174.90350</td>\n",
              "    </tr>\n",
              "    <tr>\n",
              "      <th>2013-10-29</th>\n",
              "      <td>BTC</td>\n",
              "      <td>192.75666</td>\n",
              "      <td>187.15983</td>\n",
              "      <td>192.83983</td>\n",
              "      <td>185.88116</td>\n",
              "    </tr>\n",
              "    <tr>\n",
              "      <th>2013-10-30</th>\n",
              "      <td>BTC</td>\n",
              "      <td>197.40000</td>\n",
              "      <td>192.75666</td>\n",
              "      <td>198.41366</td>\n",
              "      <td>191.62716</td>\n",
              "    </tr>\n",
              "  </tbody>\n",
              "</table>\n",
              "</div>\n",
              "      <button class=\"colab-df-convert\" onclick=\"convertToInteractive('df-04a3c052-4607-4573-a6cd-30a06c55a64b')\"\n",
              "              title=\"Convert this dataframe to an interactive table.\"\n",
              "              style=\"display:none;\">\n",
              "        \n",
              "  <svg xmlns=\"http://www.w3.org/2000/svg\" height=\"24px\"viewBox=\"0 0 24 24\"\n",
              "       width=\"24px\">\n",
              "    <path d=\"M0 0h24v24H0V0z\" fill=\"none\"/>\n",
              "    <path d=\"M18.56 5.44l.94 2.06.94-2.06 2.06-.94-2.06-.94-.94-2.06-.94 2.06-2.06.94zm-11 1L8.5 8.5l.94-2.06 2.06-.94-2.06-.94L8.5 2.5l-.94 2.06-2.06.94zm10 10l.94 2.06.94-2.06 2.06-.94-2.06-.94-.94-2.06-.94 2.06-2.06.94z\"/><path d=\"M17.41 7.96l-1.37-1.37c-.4-.4-.92-.59-1.43-.59-.52 0-1.04.2-1.43.59L10.3 9.45l-7.72 7.72c-.78.78-.78 2.05 0 2.83L4 21.41c.39.39.9.59 1.41.59.51 0 1.02-.2 1.41-.59l7.78-7.78 2.81-2.81c.8-.78.8-2.07 0-2.86zM5.41 20L4 18.59l7.72-7.72 1.47 1.35L5.41 20z\"/>\n",
              "  </svg>\n",
              "      </button>\n",
              "      \n",
              "  <style>\n",
              "    .colab-df-container {\n",
              "      display:flex;\n",
              "      flex-wrap:wrap;\n",
              "      gap: 12px;\n",
              "    }\n",
              "\n",
              "    .colab-df-convert {\n",
              "      background-color: #E8F0FE;\n",
              "      border: none;\n",
              "      border-radius: 50%;\n",
              "      cursor: pointer;\n",
              "      display: none;\n",
              "      fill: #1967D2;\n",
              "      height: 32px;\n",
              "      padding: 0 0 0 0;\n",
              "      width: 32px;\n",
              "    }\n",
              "\n",
              "    .colab-df-convert:hover {\n",
              "      background-color: #E2EBFA;\n",
              "      box-shadow: 0px 1px 2px rgba(60, 64, 67, 0.3), 0px 1px 3px 1px rgba(60, 64, 67, 0.15);\n",
              "      fill: #174EA6;\n",
              "    }\n",
              "\n",
              "    [theme=dark] .colab-df-convert {\n",
              "      background-color: #3B4455;\n",
              "      fill: #D2E3FC;\n",
              "    }\n",
              "\n",
              "    [theme=dark] .colab-df-convert:hover {\n",
              "      background-color: #434B5C;\n",
              "      box-shadow: 0px 1px 3px 1px rgba(0, 0, 0, 0.15);\n",
              "      filter: drop-shadow(0px 1px 2px rgba(0, 0, 0, 0.3));\n",
              "      fill: #FFFFFF;\n",
              "    }\n",
              "  </style>\n",
              "\n",
              "      <script>\n",
              "        const buttonEl =\n",
              "          document.querySelector('#df-04a3c052-4607-4573-a6cd-30a06c55a64b button.colab-df-convert');\n",
              "        buttonEl.style.display =\n",
              "          google.colab.kernel.accessAllowed ? 'block' : 'none';\n",
              "\n",
              "        async function convertToInteractive(key) {\n",
              "          const element = document.querySelector('#df-04a3c052-4607-4573-a6cd-30a06c55a64b');\n",
              "          const dataTable =\n",
              "            await google.colab.kernel.invokeFunction('convertToInteractive',\n",
              "                                                     [key], {});\n",
              "          if (!dataTable) return;\n",
              "\n",
              "          const docLinkHtml = 'Like what you see? Visit the ' +\n",
              "            '<a target=\"_blank\" href=https://colab.research.google.com/notebooks/data_table.ipynb>data table notebook</a>'\n",
              "            + ' to learn more about interactive tables.';\n",
              "          element.innerHTML = '';\n",
              "          dataTable['output_type'] = 'display_data';\n",
              "          await google.colab.output.renderOutput(dataTable, element);\n",
              "          const docLink = document.createElement('div');\n",
              "          docLink.innerHTML = docLinkHtml;\n",
              "          element.appendChild(docLink);\n",
              "        }\n",
              "      </script>\n",
              "    </div>\n",
              "  </div>\n",
              "  "
            ]
          },
          "metadata": {},
          "execution_count": 23
        }
      ]
    },
    {
      "cell_type": "code",
      "source": [
        "df.describe().transpose()"
      ],
      "metadata": {
        "colab": {
          "base_uri": "https://localhost:8080/",
          "height": 175
        },
        "id": "qRwhC_8SnYN3",
        "outputId": "80990cf5-50c3-46d5-dabc-ae8ec601d54c"
      },
      "execution_count": 24,
      "outputs": [
        {
          "output_type": "execute_result",
          "data": {
            "text/plain": [
              "                      count         mean           std        min         25%  \\\n",
              "Closing Price (USD)  2787.0  6529.845141  10887.847444  108.58483  460.087500   \n",
              "24h Open (USD)       2787.0  6513.579485  10863.800772  108.58483  459.400500   \n",
              "24h High (USD)       2787.0  6710.061683  11206.779756  118.67500  469.720995   \n",
              "24h Low (USD)        2787.0  6302.417386  10475.811252   83.32833  450.818830   \n",
              "\n",
              "                            50%          75%           max  \n",
              "Closing Price (USD)  2780.18250  8506.923720  63346.789035  \n",
              "24h Open (USD)       2772.36750  8496.887593  63562.673545  \n",
              "24h High (USD)       2874.69625  8763.291985  64801.787870  \n",
              "24h Low (USD)        2696.45750  8221.060570  62094.632914  "
            ],
            "text/html": [
              "\n",
              "  <div id=\"df-02e386b3-6c54-4946-9574-1fb975be3f12\">\n",
              "    <div class=\"colab-df-container\">\n",
              "      <div>\n",
              "<style scoped>\n",
              "    .dataframe tbody tr th:only-of-type {\n",
              "        vertical-align: middle;\n",
              "    }\n",
              "\n",
              "    .dataframe tbody tr th {\n",
              "        vertical-align: top;\n",
              "    }\n",
              "\n",
              "    .dataframe thead th {\n",
              "        text-align: right;\n",
              "    }\n",
              "</style>\n",
              "<table border=\"1\" class=\"dataframe\">\n",
              "  <thead>\n",
              "    <tr style=\"text-align: right;\">\n",
              "      <th></th>\n",
              "      <th>count</th>\n",
              "      <th>mean</th>\n",
              "      <th>std</th>\n",
              "      <th>min</th>\n",
              "      <th>25%</th>\n",
              "      <th>50%</th>\n",
              "      <th>75%</th>\n",
              "      <th>max</th>\n",
              "    </tr>\n",
              "  </thead>\n",
              "  <tbody>\n",
              "    <tr>\n",
              "      <th>Closing Price (USD)</th>\n",
              "      <td>2787.0</td>\n",
              "      <td>6529.845141</td>\n",
              "      <td>10887.847444</td>\n",
              "      <td>108.58483</td>\n",
              "      <td>460.087500</td>\n",
              "      <td>2780.18250</td>\n",
              "      <td>8506.923720</td>\n",
              "      <td>63346.789035</td>\n",
              "    </tr>\n",
              "    <tr>\n",
              "      <th>24h Open (USD)</th>\n",
              "      <td>2787.0</td>\n",
              "      <td>6513.579485</td>\n",
              "      <td>10863.800772</td>\n",
              "      <td>108.58483</td>\n",
              "      <td>459.400500</td>\n",
              "      <td>2772.36750</td>\n",
              "      <td>8496.887593</td>\n",
              "      <td>63562.673545</td>\n",
              "    </tr>\n",
              "    <tr>\n",
              "      <th>24h High (USD)</th>\n",
              "      <td>2787.0</td>\n",
              "      <td>6710.061683</td>\n",
              "      <td>11206.779756</td>\n",
              "      <td>118.67500</td>\n",
              "      <td>469.720995</td>\n",
              "      <td>2874.69625</td>\n",
              "      <td>8763.291985</td>\n",
              "      <td>64801.787870</td>\n",
              "    </tr>\n",
              "    <tr>\n",
              "      <th>24h Low (USD)</th>\n",
              "      <td>2787.0</td>\n",
              "      <td>6302.417386</td>\n",
              "      <td>10475.811252</td>\n",
              "      <td>83.32833</td>\n",
              "      <td>450.818830</td>\n",
              "      <td>2696.45750</td>\n",
              "      <td>8221.060570</td>\n",
              "      <td>62094.632914</td>\n",
              "    </tr>\n",
              "  </tbody>\n",
              "</table>\n",
              "</div>\n",
              "      <button class=\"colab-df-convert\" onclick=\"convertToInteractive('df-02e386b3-6c54-4946-9574-1fb975be3f12')\"\n",
              "              title=\"Convert this dataframe to an interactive table.\"\n",
              "              style=\"display:none;\">\n",
              "        \n",
              "  <svg xmlns=\"http://www.w3.org/2000/svg\" height=\"24px\"viewBox=\"0 0 24 24\"\n",
              "       width=\"24px\">\n",
              "    <path d=\"M0 0h24v24H0V0z\" fill=\"none\"/>\n",
              "    <path d=\"M18.56 5.44l.94 2.06.94-2.06 2.06-.94-2.06-.94-.94-2.06-.94 2.06-2.06.94zm-11 1L8.5 8.5l.94-2.06 2.06-.94-2.06-.94L8.5 2.5l-.94 2.06-2.06.94zm10 10l.94 2.06.94-2.06 2.06-.94-2.06-.94-.94-2.06-.94 2.06-2.06.94z\"/><path d=\"M17.41 7.96l-1.37-1.37c-.4-.4-.92-.59-1.43-.59-.52 0-1.04.2-1.43.59L10.3 9.45l-7.72 7.72c-.78.78-.78 2.05 0 2.83L4 21.41c.39.39.9.59 1.41.59.51 0 1.02-.2 1.41-.59l7.78-7.78 2.81-2.81c.8-.78.8-2.07 0-2.86zM5.41 20L4 18.59l7.72-7.72 1.47 1.35L5.41 20z\"/>\n",
              "  </svg>\n",
              "      </button>\n",
              "      \n",
              "  <style>\n",
              "    .colab-df-container {\n",
              "      display:flex;\n",
              "      flex-wrap:wrap;\n",
              "      gap: 12px;\n",
              "    }\n",
              "\n",
              "    .colab-df-convert {\n",
              "      background-color: #E8F0FE;\n",
              "      border: none;\n",
              "      border-radius: 50%;\n",
              "      cursor: pointer;\n",
              "      display: none;\n",
              "      fill: #1967D2;\n",
              "      height: 32px;\n",
              "      padding: 0 0 0 0;\n",
              "      width: 32px;\n",
              "    }\n",
              "\n",
              "    .colab-df-convert:hover {\n",
              "      background-color: #E2EBFA;\n",
              "      box-shadow: 0px 1px 2px rgba(60, 64, 67, 0.3), 0px 1px 3px 1px rgba(60, 64, 67, 0.15);\n",
              "      fill: #174EA6;\n",
              "    }\n",
              "\n",
              "    [theme=dark] .colab-df-convert {\n",
              "      background-color: #3B4455;\n",
              "      fill: #D2E3FC;\n",
              "    }\n",
              "\n",
              "    [theme=dark] .colab-df-convert:hover {\n",
              "      background-color: #434B5C;\n",
              "      box-shadow: 0px 1px 3px 1px rgba(0, 0, 0, 0.15);\n",
              "      filter: drop-shadow(0px 1px 2px rgba(0, 0, 0, 0.3));\n",
              "      fill: #FFFFFF;\n",
              "    }\n",
              "  </style>\n",
              "\n",
              "      <script>\n",
              "        const buttonEl =\n",
              "          document.querySelector('#df-02e386b3-6c54-4946-9574-1fb975be3f12 button.colab-df-convert');\n",
              "        buttonEl.style.display =\n",
              "          google.colab.kernel.accessAllowed ? 'block' : 'none';\n",
              "\n",
              "        async function convertToInteractive(key) {\n",
              "          const element = document.querySelector('#df-02e386b3-6c54-4946-9574-1fb975be3f12');\n",
              "          const dataTable =\n",
              "            await google.colab.kernel.invokeFunction('convertToInteractive',\n",
              "                                                     [key], {});\n",
              "          if (!dataTable) return;\n",
              "\n",
              "          const docLinkHtml = 'Like what you see? Visit the ' +\n",
              "            '<a target=\"_blank\" href=https://colab.research.google.com/notebooks/data_table.ipynb>data table notebook</a>'\n",
              "            + ' to learn more about interactive tables.';\n",
              "          element.innerHTML = '';\n",
              "          dataTable['output_type'] = 'display_data';\n",
              "          await google.colab.output.renderOutput(dataTable, element);\n",
              "          const docLink = document.createElement('div');\n",
              "          docLink.innerHTML = docLinkHtml;\n",
              "          element.appendChild(docLink);\n",
              "        }\n",
              "      </script>\n",
              "    </div>\n",
              "  </div>\n",
              "  "
            ]
          },
          "metadata": {},
          "execution_count": 24
        }
      ]
    },
    {
      "cell_type": "code",
      "source": [
        "df.isnull().sum()"
      ],
      "metadata": {
        "colab": {
          "base_uri": "https://localhost:8080/"
        },
        "id": "P96V9qICnwTp",
        "outputId": "b5a8a336-a57b-440e-e3ac-aa729f4e8d97"
      },
      "execution_count": 25,
      "outputs": [
        {
          "output_type": "execute_result",
          "data": {
            "text/plain": [
              "Currency               0\n",
              "Closing Price (USD)    0\n",
              "24h Open (USD)         0\n",
              "24h High (USD)         0\n",
              "24h Low (USD)          0\n",
              "dtype: int64"
            ]
          },
          "metadata": {},
          "execution_count": 25
        }
      ]
    },
    {
      "cell_type": "code",
      "source": [
        "df.info()"
      ],
      "metadata": {
        "colab": {
          "base_uri": "https://localhost:8080/"
        },
        "id": "ei0rGDPgn4j4",
        "outputId": "8e41488b-99ca-4103-ef18-19fffbc4a84c"
      },
      "execution_count": 27,
      "outputs": [
        {
          "output_type": "stream",
          "name": "stdout",
          "text": [
            "<class 'pandas.core.frame.DataFrame'>\n",
            "DatetimeIndex: 2787 entries, 2013-10-01 to 2021-05-18\n",
            "Data columns (total 5 columns):\n",
            " #   Column               Non-Null Count  Dtype  \n",
            "---  ------               --------------  -----  \n",
            " 0   Currency             2787 non-null   object \n",
            " 1   Closing Price (USD)  2787 non-null   float64\n",
            " 2   24h Open (USD)       2787 non-null   float64\n",
            " 3   24h High (USD)       2787 non-null   float64\n",
            " 4   24h Low (USD)        2787 non-null   float64\n",
            "dtypes: float64(4), object(1)\n",
            "memory usage: 130.6+ KB\n"
          ]
        }
      ]
    },
    {
      "cell_type": "markdown",
      "source": [
        "#### Code is clean. No data is missing no problem with datatype. Good to perform EDA."
      ],
      "metadata": {
        "id": "_Zsc_Zaen6K3"
      }
    },
    {
      "cell_type": "markdown",
      "source": [
        "**Questions:**\n",
        "\n",
        "\n",
        "\n",
        "1.   How many year data it is? How many sample do we have?\n",
        "2.   Which day BTC is highest and on which date it is lowest?\n",
        "3.   What is rate of change BTC every week, fortnight, month, quarter, semi-anually and annual.\n",
        "\n",
        "\n"
      ],
      "metadata": {
        "id": "5mjHdgtwoDq_"
      }
    },
    {
      "cell_type": "code",
      "source": [
        "#AQ1: Answer\n",
        "len(df)"
      ],
      "metadata": {
        "colab": {
          "base_uri": "https://localhost:8080/"
        },
        "id": "TU3vUOEbqkga",
        "outputId": "debfdbf5-5646-4d97-b120-b0848f86f67e"
      },
      "execution_count": 30,
      "outputs": [
        {
          "output_type": "execute_result",
          "data": {
            "text/plain": [
              "2787"
            ]
          },
          "metadata": {},
          "execution_count": 30
        }
      ]
    },
    {
      "cell_type": "code",
      "source": [
        "years = (df.index[-1] - df.index[0])/np.timedelta64(1, \"Y\")\n",
        "months = (years - np.floor(years)) * 12.008\n",
        "days = (months - np.floor(months)) * 30.417\n",
        "print(f\"Total data timeframe is: {int(years)} Years, {int(months)} Months, {int(days)} Days\")"
      ],
      "metadata": {
        "colab": {
          "base_uri": "https://localhost:8080/"
        },
        "id": "J0WF1dS1rKO_",
        "outputId": "3cc67e6b-6b5d-4f27-c602-f444549724c2"
      },
      "execution_count": 48,
      "outputs": [
        {
          "output_type": "stream",
          "name": "stdout",
          "text": [
            "Total data timeframe is: 7 Years, 7 Months, 16 Days\n"
          ]
        }
      ]
    },
    {
      "cell_type": "markdown",
      "source": [
        "#### We have collected data for 7 years 7 months and 16 days data. As DL model like lots of sample hence we are good to as we have total 2787 days of data but as in timeseries smaller number of smaples is often run into data problems.\n"
      ],
      "metadata": {
        "id": "O_gZUDbXrhOe"
      }
    },
    {
      "cell_type": "markdown",
      "source": [
        "#### **Note:** The Seasonality of a time series dataset is reffered as the number of samples per year. so for our bitcoin data, it has a seasonality of daily or value of 365 because we collect one sample per day meaning. We'll get 365 days"
      ],
      "metadata": {
        "id": "T4fxU9kNvq8E"
      }
    },
    {
      "cell_type": "code",
      "source": [
        "df['Closing Price (USD)'].plot()"
      ],
      "metadata": {
        "colab": {
          "base_uri": "https://localhost:8080/",
          "height": 296
        },
        "id": "ClMwP3Gtwdav",
        "outputId": "1f7d790d-a3b4-4af4-e93d-6e26ecabfc3c"
      },
      "execution_count": 50,
      "outputs": [
        {
          "output_type": "execute_result",
          "data": {
            "text/plain": [
              "<AxesSubplot:xlabel='Date'>"
            ]
          },
          "metadata": {},
          "execution_count": 50
        },
        {
          "output_type": "display_data",
          "data": {
            "text/plain": [
              "<Figure size 432x288 with 1 Axes>"
            ],
            "image/png": "[encoded data removed]"
          },
          "metadata": {
            "needs_background": "light"
          }
        }
      ]
    },
    {
      "cell_type": "code",
      "source": [
        "bitcoin = pd.DataFrame(df[\"Closing Price (USD)\"]).rename(columns={\"Closing Price (USD)\": \"Price\"})\n",
        "bitcoin.head()"
      ],
      "metadata": {
        "colab": {
          "base_uri": "https://localhost:8080/",
          "height": 238
        },
        "id": "SQ2FgNmp0jI-",
        "outputId": "1fe637be-5d1e-45e9-b5bf-981ca04bccdb"
      },
      "execution_count": 51,
      "outputs": [
        {
          "output_type": "execute_result",
          "data": {
            "text/plain": [
              "                Price\n",
              "Date                 \n",
              "2013-10-01  123.65499\n",
              "2013-10-02  125.45500\n",
              "2013-10-03  108.58483\n",
              "2013-10-04  118.67466\n",
              "2013-10-05  121.33866"
            ],
            "text/html": [
              "\n",
              "  <div id=\"df-fdafd50c-4947-4df3-adb7-c7182db57e69\">\n",
              "    <div class=\"colab-df-container\">\n",
              "      <div>\n",
              "<style scoped>\n",
              "    .dataframe tbody tr th:only-of-type {\n",
              "        vertical-align: middle;\n",
              "    }\n",
              "\n",
              "    .dataframe tbody tr th {\n",
              "        vertical-align: top;\n",
              "    }\n",
              "\n",
              "    .dataframe thead th {\n",
              "        text-align: right;\n",
              "    }\n",
              "</style>\n",
              "<table border=\"1\" class=\"dataframe\">\n",
              "  <thead>\n",
              "    <tr style=\"text-align: right;\">\n",
              "      <th></th>\n",
              "      <th>Price</th>\n",
              "    </tr>\n",
              "    <tr>\n",
              "      <th>Date</th>\n",
              "      <th></th>\n",
              "    </tr>\n",
              "  </thead>\n",
              "  <tbody>\n",
              "    <tr>\n",
              "      <th>2013-10-01</th>\n",
              "      <td>123.65499</td>\n",
              "    </tr>\n",
              "    <tr>\n",
              "      <th>2013-10-02</th>\n",
              "      <td>125.45500</td>\n",
              "    </tr>\n",
              "    <tr>\n",
              "      <th>2013-10-03</th>\n",
              "      <td>108.58483</td>\n",
              "    </tr>\n",
              "    <tr>\n",
              "      <th>2013-10-04</th>\n",
              "      <td>118.67466</td>\n",
              "    </tr>\n",
              "    <tr>\n",
              "      <th>2013-10-05</th>\n",
              "      <td>121.33866</td>\n",
              "    </tr>\n",
              "  </tbody>\n",
              "</table>\n",
              "</div>\n",
              "      <button class=\"colab-df-convert\" onclick=\"convertToInteractive('df-fdafd50c-4947-4df3-adb7-c7182db57e69')\"\n",
              "              title=\"Convert this dataframe to an interactive table.\"\n",
              "              style=\"display:none;\">\n",
              "        \n",
              "  <svg xmlns=\"http://www.w3.org/2000/svg\" height=\"24px\"viewBox=\"0 0 24 24\"\n",
              "       width=\"24px\">\n",
              "    <path d=\"M0 0h24v24H0V0z\" fill=\"none\"/>\n",
              "    <path d=\"M18.56 5.44l.94 2.06.94-2.06 2.06-.94-2.06-.94-.94-2.06-.94 2.06-2.06.94zm-11 1L8.5 8.5l.94-2.06 2.06-.94-2.06-.94L8.5 2.5l-.94 2.06-2.06.94zm10 10l.94 2.06.94-2.06 2.06-.94-2.06-.94-.94-2.06-.94 2.06-2.06.94z\"/><path d=\"M17.41 7.96l-1.37-1.37c-.4-.4-.92-.59-1.43-.59-.52 0-1.04.2-1.43.59L10.3 9.45l-7.72 7.72c-.78.78-.78 2.05 0 2.83L4 21.41c.39.39.9.59 1.41.59.51 0 1.02-.2 1.41-.59l7.78-7.78 2.81-2.81c.8-.78.8-2.07 0-2.86zM5.41 20L4 18.59l7.72-7.72 1.47 1.35L5.41 20z\"/>\n",
              "  </svg>\n",
              "      </button>\n",
              "      \n",
              "  <style>\n",
              "    .colab-df-container {\n",
              "      display:flex;\n",
              "      flex-wrap:wrap;\n",
              "      gap: 12px;\n",
              "    }\n",
              "\n",
              "    .colab-df-convert {\n",
              "      background-color: #E8F0FE;\n",
              "      border: none;\n",
              "      border-radius: 50%;\n",
              "      cursor: pointer;\n",
              "      display: none;\n",
              "      fill: #1967D2;\n",
              "      height: 32px;\n",
              "      padding: 0 0 0 0;\n",
              "      width: 32px;\n",
              "    }\n",
              "\n",
              "    .colab-df-convert:hover {\n",
              "      background-color: #E2EBFA;\n",
              "      box-shadow: 0px 1px 2px rgba(60, 64, 67, 0.3), 0px 1px 3px 1px rgba(60, 64, 67, 0.15);\n",
              "      fill: #174EA6;\n",
              "    }\n",
              "\n",
              "    [theme=dark] .colab-df-convert {\n",
              "      background-color: #3B4455;\n",
              "      fill: #D2E3FC;\n",
              "    }\n",
              "\n",
              "    [theme=dark] .colab-df-convert:hover {\n",
              "      background-color: #434B5C;\n",
              "      box-shadow: 0px 1px 3px 1px rgba(0, 0, 0, 0.15);\n",
              "      filter: drop-shadow(0px 1px 2px rgba(0, 0, 0, 0.3));\n",
              "      fill: #FFFFFF;\n",
              "    }\n",
              "  </style>\n",
              "\n",
              "      <script>\n",
              "        const buttonEl =\n",
              "          document.querySelector('#df-fdafd50c-4947-4df3-adb7-c7182db57e69 button.colab-df-convert');\n",
              "        buttonEl.style.display =\n",
              "          google.colab.kernel.accessAllowed ? 'block' : 'none';\n",
              "\n",
              "        async function convertToInteractive(key) {\n",
              "          const element = document.querySelector('#df-fdafd50c-4947-4df3-adb7-c7182db57e69');\n",
              "          const dataTable =\n",
              "            await google.colab.kernel.invokeFunction('convertToInteractive',\n",
              "                                                     [key], {});\n",
              "          if (!dataTable) return;\n",
              "\n",
              "          const docLinkHtml = 'Like what you see? Visit the ' +\n",
              "            '<a target=\"_blank\" href=https://colab.research.google.com/notebooks/data_table.ipynb>data table notebook</a>'\n",
              "            + ' to learn more about interactive tables.';\n",
              "          element.innerHTML = '';\n",
              "          dataTable['output_type'] = 'display_data';\n",
              "          await google.colab.output.renderOutput(dataTable, element);\n",
              "          const docLink = document.createElement('div');\n",
              "          docLink.innerHTML = docLinkHtml;\n",
              "          element.appendChild(docLink);\n",
              "        }\n",
              "      </script>\n",
              "    </div>\n",
              "  </div>\n",
              "  "
            ]
          },
          "metadata": {},
          "execution_count": 51
        }
      ]
    },
    {
      "cell_type": "code",
      "source": [
        "bitcoin.plot(figsize=(10, 7))\n",
        "plt.ylabel(\"BTC Price\")\n",
        "plt.xlabel(\"Time\")\n",
        "plt.title(\"Price of Bitcoin from 1 Oct to 18 May 2021\", fontsize=16)\n",
        "plt.legend(fontsize=14);"
      ],
      "metadata": {
        "colab": {
          "base_uri": "https://localhost:8080/",
          "height": 460
        },
        "id": "5Z35oKdX1FOq",
        "outputId": "eb9ba017-9ec3-459e-f5c1-0b86b792b29b"
      },
      "execution_count": 60,
      "outputs": [
        {
          "output_type": "display_data",
          "data": {
            "text/plain": [
              "<Figure size 720x504 with 1 Axes>"
            ],
            "image/png": "[encoded data removed]"
          },
          "metadata": {
            "needs_background": "light"
          }
        }
      ]
    },
    {
      "cell_type": "code",
      "source": [],
      "metadata": {
        "id": "5kIvW72k1W4g"
      },
      "execution_count": null,
      "outputs": []
    }
  ]
}